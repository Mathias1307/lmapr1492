{
 "cells": [
  {
   "cell_type": "code",
   "execution_count": 1,
   "id": "c904d556",
   "metadata": {},
   "outputs": [],
   "source": [
    "from pymatgen import Structure\n",
    "from pymatgen.symmetry.analyzer import SpacegroupAnalyzer\n",
    "from pymatgen.analysis.bond_valence import BVAnalyzer\n",
    "from pymatgen.core.composition import Composition\n",
    "from jupyter_jsmol.pymatgen import quick_view\n",
    "from pymatgen.ext.matproj import MPRester\n",
    "from pymatgen.apps.borg.hive import VaspToComputedEntryDrone\n",
    "from pymatgen.apps.borg.queen import BorgQueen\n",
    "from pymatgen.entries.compatibility import MaterialsProjectCompatibility\n",
    "from pymatgen.analysis.phase_diagram import PhaseDiagram, PDPlotter\n",
    "from pymatgen.io.cif import CifWriter"
   ]
  },
  {
   "cell_type": "code",
   "execution_count": 2,
   "id": "1dbb0e62",
   "metadata": {},
   "outputs": [
    {
     "data": {
      "application/vnd.jupyter.widget-view+json": {
       "model_id": "8c897a8775044e1dbf369a5333ef8c16",
       "version_major": 2,
       "version_minor": 0
      },
      "text/plain": [
       "JsmolView(layout=Layout(align_self='stretch', height='400px'))"
      ]
     },
     "metadata": {},
     "output_type": "display_data"
    }
   ],
   "source": [
    "with MPRester(\"ysmdUA3p65f0e7CxMBwL\") as m:\n",
    "    # Structure for material id\n",
    "    structure = m.get_structure_by_material_id(\"mp-961659\")\n",
    "    \n",
    "    dos = m.get_dos_by_material_id(\"mp-973185\")\n",
    "\n",
    "    # Bandstructure for material id\n",
    "    bandstructure = m.get_bandstructure_by_material_id(\"mp-973185\")\n",
    "    view=quick_view(structure)\n",
    "    display(view)"
   ]
  },
  {
   "cell_type": "code",
   "execution_count": 3,
   "id": "5cada429",
   "metadata": {},
   "outputs": [
    {
     "name": "stdout",
     "output_type": "stream",
     "text": [
      "Vecteurs des base du réseau direct:\n",
      "Normes en Å:\n",
      "a = 4.159446745885563\n",
      "b = 4.159446745885563\n",
      "c = 4.159446745885563 \n",
      "Angles en °:\n",
      "alpha = 59.99999999999999\n",
      "beta = 59.99999999999999\n",
      "gamma = 59.99999999999999\n"
     ]
    }
   ],
   "source": [
    "vecteurs = structure.lattice\n",
    "normes = vecteurs.abc\n",
    "angles = vecteurs.angles\n",
    "print(\"Vecteurs des base du réseau direct:\")\n",
    "print(\"Normes en Å:\")\n",
    "print(\"a =\",normes[0])\n",
    "print(\"b =\",normes[1])\n",
    "print(\"c =\",normes[2],\"\")\n",
    "print(\"Angles en °:\")\n",
    "print(\"alpha =\",angles[0])\n",
    "print(\"beta =\",angles[1])\n",
    "print(\"gamma =\",angles[2])\n"
   ]
  },
  {
   "cell_type": "code",
   "execution_count": 4,
   "id": "9b011cd9",
   "metadata": {},
   "outputs": [],
   "source": [
    "structure.to(filename= 'mp-961659.cif')"
   ]
  },
  {
   "cell_type": "code",
   "execution_count": 5,
   "id": "d60819f6",
   "metadata": {},
   "outputs": [
    {
     "name": "stdout",
     "output_type": "stream",
     "text": [
      "Vecteurs des base du réseau réciproque:\n",
      "Normes en Å:\n",
      "a* = 1.8500775346103933\n",
      "b* = 1.8500775346103933\n",
      "c* = 1.8500775346103933 \n",
      "Angles en °:\n",
      "alpha = 109.47122063449069\n",
      "beta = 109.47122063449069\n",
      "gamma = 109.47122063449069\n"
     ]
    }
   ],
   "source": [
    "vecteurs_r = structure.lattice.reciprocal_lattice\n",
    "normes_r = vecteurs_r.abc\n",
    "angles_r = vecteurs_r.angles\n",
    "print(\"Vecteurs des base du réseau réciproque:\")\n",
    "print(\"Normes en Å:\")\n",
    "print(\"a* =\",normes_r[0])\n",
    "print(\"b* =\",normes_r[1])\n",
    "print(\"c* =\",normes_r[2],\"\")\n",
    "print(\"Angles en °:\")\n",
    "print(\"alpha =\",angles_r[0])\n",
    "print(\"beta =\",angles_r[1])\n",
    "print(\"gamma =\",angles_r[2])"
   ]
  },
  {
   "cell_type": "code",
   "execution_count": 6,
   "id": "e0fa069a",
   "metadata": {},
   "outputs": [
    {
     "name": "stdout",
     "output_type": "stream",
     "text": [
      "Type de maille: cubic\n"
     ]
    }
   ],
   "source": [
    "maille = SpacegroupAnalyzer(structure).get_lattice_type()\n",
    "print(\"Type de maille:\", maille )"
   ]
  },
  {
   "cell_type": "code",
   "execution_count": 7,
   "id": "60e3c901",
   "metadata": {},
   "outputs": [
    {
     "name": "stdout",
     "output_type": "stream",
     "text": [
      "Système cristallin : cubic\n"
     ]
    }
   ],
   "source": [
    "\n",
    "systeme_cristallin = SpacegroupAnalyzer(structure).get_crystal_system()\n",
    "print(\"Système cristallin :\", systeme_cristallin)"
   ]
  },
  {
   "cell_type": "code",
   "execution_count": 8,
   "id": "7e0918fd",
   "metadata": {},
   "outputs": [
    {
     "name": "stdout",
     "output_type": "stream",
     "text": [
      "Groupe ponctuel : -43m\n"
     ]
    }
   ],
   "source": [
    "groupe_ponctuel = SpacegroupAnalyzer(structure).get_point_group_symbol()\n",
    "print(\"Groupe ponctuel :\", groupe_ponctuel)"
   ]
  }
 ],
 "metadata": {
  "kernelspec": {
   "display_name": "Python 3",
   "language": "python",
   "name": "python3"
  },
  "language_info": {
   "codemirror_mode": {
    "name": "ipython",
    "version": 3
   },
   "file_extension": ".py",
   "mimetype": "text/x-python",
   "name": "python",
   "nbconvert_exporter": "python",
   "pygments_lexer": "ipython3",
   "version": "3.6.8"
  }
 },
 "nbformat": 4,
 "nbformat_minor": 5
}
